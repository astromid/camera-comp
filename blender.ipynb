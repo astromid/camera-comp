{
 "cells": [
  {
   "cell_type": "code",
   "execution_count": 1,
   "metadata": {
    "collapsed": true
   },
   "outputs": [],
   "source": [
    "import pandas as pd\n",
    "import os\n",
    "from glob import glob\n",
    "from tqdm import tqdm"
   ]
  },
  {
   "cell_type": "code",
   "execution_count": 17,
   "metadata": {},
   "outputs": [
    {
     "name": "stderr",
     "output_type": "stream",
     "text": [
      "100%|███████████████████████████████████████████████████████████████████████████████████| 5/5 [00:00<00:00, 123.14it/s]\n"
     ]
    }
   ],
   "source": [
    "blend_list = glob('subs/blending/*.csv')\n",
    "data = {}\n",
    "for sub_file in tqdm(blend_list):\n",
    "    sub_df = pd.read_csv(sub_file, index_col='fname')\n",
    "    sub_df.sort_index(inplace=True)\n",
    "    data[os.path.basename(sub_file)] = sub_df['camera']\n",
    "df = pd.DataFrame(data)"
   ]
  },
  {
   "cell_type": "code",
   "execution_count": 18,
   "metadata": {},
   "outputs": [
    {
     "data": {
      "text/html": [
       "<div>\n",
       "<style>\n",
       "    .dataframe thead tr:only-child th {\n",
       "        text-align: right;\n",
       "    }\n",
       "\n",
       "    .dataframe thead th {\n",
       "        text-align: left;\n",
       "    }\n",
       "\n",
       "    .dataframe tbody tr th {\n",
       "        vertical-align: top;\n",
       "    }\n",
       "</style>\n",
       "<table border=\"1\" class=\"dataframe\">\n",
       "  <thead>\n",
       "    <tr style=\"text-align: right;\">\n",
       "      <th></th>\n",
       "      <th>densenet201-1-best.csv</th>\n",
       "      <th>densenet201-1.csv</th>\n",
       "      <th>densenet201-last-TTA.csv</th>\n",
       "      <th>xception-0-best.csv</th>\n",
       "      <th>xception-0.csv</th>\n",
       "    </tr>\n",
       "    <tr>\n",
       "      <th>fname</th>\n",
       "      <th></th>\n",
       "      <th></th>\n",
       "      <th></th>\n",
       "      <th></th>\n",
       "      <th></th>\n",
       "    </tr>\n",
       "  </thead>\n",
       "  <tbody>\n",
       "    <tr>\n",
       "      <th>img_0002a04_manip.tif</th>\n",
       "      <td>LG-Nexus-5x</td>\n",
       "      <td>LG-Nexus-5x</td>\n",
       "      <td>LG-Nexus-5x</td>\n",
       "      <td>LG-Nexus-5x</td>\n",
       "      <td>LG-Nexus-5x</td>\n",
       "    </tr>\n",
       "    <tr>\n",
       "      <th>img_001e31c_unalt.tif</th>\n",
       "      <td>iPhone-4s</td>\n",
       "      <td>iPhone-4s</td>\n",
       "      <td>iPhone-4s</td>\n",
       "      <td>iPhone-4s</td>\n",
       "      <td>iPhone-4s</td>\n",
       "    </tr>\n",
       "    <tr>\n",
       "      <th>img_00275cf_manip.tif</th>\n",
       "      <td>iPhone-6</td>\n",
       "      <td>iPhone-6</td>\n",
       "      <td>iPhone-6</td>\n",
       "      <td>iPhone-6</td>\n",
       "      <td>iPhone-6</td>\n",
       "    </tr>\n",
       "    <tr>\n",
       "      <th>img_0034113_unalt.tif</th>\n",
       "      <td>Samsung-Galaxy-S4</td>\n",
       "      <td>Samsung-Galaxy-S4</td>\n",
       "      <td>Samsung-Galaxy-S4</td>\n",
       "      <td>Samsung-Galaxy-S4</td>\n",
       "      <td>Samsung-Galaxy-S4</td>\n",
       "    </tr>\n",
       "    <tr>\n",
       "      <th>img_00344b7_unalt.tif</th>\n",
       "      <td>Motorola-X</td>\n",
       "      <td>Motorola-X</td>\n",
       "      <td>Motorola-X</td>\n",
       "      <td>Motorola-X</td>\n",
       "      <td>Motorola-X</td>\n",
       "    </tr>\n",
       "  </tbody>\n",
       "</table>\n",
       "</div>"
      ],
      "text/plain": [
       "                      densenet201-1-best.csv  densenet201-1.csv  \\\n",
       "fname                                                             \n",
       "img_0002a04_manip.tif            LG-Nexus-5x        LG-Nexus-5x   \n",
       "img_001e31c_unalt.tif              iPhone-4s          iPhone-4s   \n",
       "img_00275cf_manip.tif               iPhone-6           iPhone-6   \n",
       "img_0034113_unalt.tif      Samsung-Galaxy-S4  Samsung-Galaxy-S4   \n",
       "img_00344b7_unalt.tif             Motorola-X         Motorola-X   \n",
       "\n",
       "                      densenet201-last-TTA.csv xception-0-best.csv  \\\n",
       "fname                                                                \n",
       "img_0002a04_manip.tif              LG-Nexus-5x         LG-Nexus-5x   \n",
       "img_001e31c_unalt.tif                iPhone-4s           iPhone-4s   \n",
       "img_00275cf_manip.tif                 iPhone-6            iPhone-6   \n",
       "img_0034113_unalt.tif        Samsung-Galaxy-S4   Samsung-Galaxy-S4   \n",
       "img_00344b7_unalt.tif               Motorola-X          Motorola-X   \n",
       "\n",
       "                          xception-0.csv  \n",
       "fname                                     \n",
       "img_0002a04_manip.tif        LG-Nexus-5x  \n",
       "img_001e31c_unalt.tif          iPhone-4s  \n",
       "img_00275cf_manip.tif           iPhone-6  \n",
       "img_0034113_unalt.tif  Samsung-Galaxy-S4  \n",
       "img_00344b7_unalt.tif         Motorola-X  "
      ]
     },
     "execution_count": 18,
     "metadata": {},
     "output_type": "execute_result"
    }
   ],
   "source": [
    "df.head()"
   ]
  },
  {
   "cell_type": "code",
   "execution_count": 19,
   "metadata": {},
   "outputs": [
    {
     "name": "stderr",
     "output_type": "stream",
     "text": [
      "100%|█████████████████████████████████████████████████████████████████████████████| 2640/2640 [00:02<00:00, 913.57it/s]\n"
     ]
    }
   ],
   "source": [
    "labels = []\n",
    "for i in tqdm(range(len(df))):\n",
    "    labels.append(df.iloc[i].value_counts().idxmax())"
   ]
  },
  {
   "cell_type": "code",
   "execution_count": 20,
   "metadata": {
    "collapsed": true
   },
   "outputs": [],
   "source": [
    "data = {\n",
    "    'fname': df.index,\n",
    "    'camera': labels\n",
    "}\n",
    "ensemble = pd.DataFrame(data)\n",
    "ensemble.to_csv(os.path.join('subs', 'ensemble-final.csv'), index=False)"
   ]
  },
  {
   "cell_type": "code",
   "execution_count": null,
   "metadata": {
    "collapsed": true
   },
   "outputs": [],
   "source": []
  }
 ],
 "metadata": {
  "kernelspec": {
   "display_name": "Python 3",
   "language": "python",
   "name": "python3"
  },
  "language_info": {
   "codemirror_mode": {
    "name": "ipython",
    "version": 3
   },
   "file_extension": ".py",
   "mimetype": "text/x-python",
   "name": "python",
   "nbconvert_exporter": "python",
   "pygments_lexer": "ipython3",
   "version": "3.6.3"
  }
 },
 "nbformat": 4,
 "nbformat_minor": 2
}
